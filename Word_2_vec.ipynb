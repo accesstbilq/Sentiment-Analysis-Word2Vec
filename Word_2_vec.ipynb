{
 "cells": [
  {
   "cell_type": "markdown",
   "id": "b9a99f5b-5527-45ed-a483-ac587db41b88",
   "metadata": {
    "jp-MarkdownHeadingCollapsed": true
   },
   "source": [
    "# Importing Required Packages"
   ]
  },
  {
   "cell_type": "code",
   "execution_count": 1,
   "id": "1779424a-7fc3-4c2c-9d1e-62a1fcab289a",
   "metadata": {},
   "outputs": [],
   "source": [
    "import pandas as pd\n",
    "import numpy as np\n",
    "import re\n",
    "from sklearn.model_selection import train_test_split\n",
    "import matplotlib.pyplot as plt\n",
    "import seaborn as sns\n",
    "from sklearn.metrics import mean_squared_error, r2_score, mean_absolute_error, accuracy_score\n",
    "from sklearn.ensemble import VotingRegressor, RandomForestRegressor, GradientBoostingRegressor, GradientBoostingClassifier, RandomForestClassifier\n",
    "from sklearn.feature_extraction.text import CountVectorizer, TfidfVectorizer\n",
    "from sklearn.preprocessing import LabelEncoder\n",
    "from nltk.stem import PorterStemmer\n",
    "import nltk\n",
    "from sklearn.neighbors import KNeighborsClassifier\n",
    "from nltk.tokenize import word_tokenize\n",
    "from nltk.corpus import stopwords\n",
    "from collections import Counter\n",
    "from sklearn.model_selection import GridSearchCV\n",
    "from sklearn.metrics import classification_report\n",
    "from sklearn.svm import SVC\n",
    "import time\n",
    "from nltk.stem import WordNetLemmatizer"
   ]
  },
  {
   "cell_type": "code",
   "execution_count": null,
   "id": "4d82e8eb-59c4-4d99-9c11-fff6bc8c733e",
   "metadata": {},
   "outputs": [],
   "source": [
    "import sys\n",
    "print(sys.executable)\n",
    "!{sys.executable} -m pip install gensim"
   ]
  },
  {
   "cell_type": "code",
   "execution_count": null,
   "id": "351e4702-5ad4-43d8-9c8a-dea58ccd46a9",
   "metadata": {},
   "outputs": [],
   "source": [
    "import gensim\n",
    "from gensim.test.utils import common_texts\n",
    "from gensim.models import Word2Vec\n",
    "from gensim.models import KeyedVectors\n",
    "import pandas as pd\n",
    "from huggingface_hub import hf_hub_download\n",
    "import gensim.downloader as api"
   ]
  },
  {
   "cell_type": "markdown",
   "id": "c13c2592-ab65-452a-8a24-aad0f6a82f69",
   "metadata": {
    "jp-MarkdownHeadingCollapsed": true
   },
   "source": [
    "# Importing Word2Vec Model"
   ]
  },
  {
   "cell_type": "code",
   "execution_count": 4,
   "id": "b444fb92-8408-4977-80d3-81e132e1a5f7",
   "metadata": {},
   "outputs": [],
   "source": [
    "model = KeyedVectors.load_word2vec_format(\n",
    "    'GoogleNews-vectors-negative300.bin', \n",
    "    binary=True\n",
    ")"
   ]
  },
  {
   "cell_type": "markdown",
   "id": "26192cf9-735a-4692-a8a3-b923cee477c5",
   "metadata": {},
   "source": [
    "Testing 1: Checking Similar Words"
   ]
  },
  {
   "cell_type": "code",
   "execution_count": 9,
   "id": "7fbca963-bc96-46cd-be9e-af3321613df4",
   "metadata": {
    "scrolled": true
   },
   "outputs": [
    {
     "name": "stdout",
     "output_type": "stream",
     "text": [
      "finest: 0.6383625864982605\n",
      "worst: 0.5835109949111938\n",
      "greatest: 0.5824129581451416\n",
      "strongest: 0.5785795450210571\n",
      "smartest: 0.5695626139640808\n",
      "easiest: 0.5528990626335144\n",
      "good: 0.5467196702957153\n",
      "thebest: 0.5430120825767517\n",
      "quickest: 0.5399831533432007\n",
      "healthiest: 0.5372902750968933\n"
     ]
    }
   ],
   "source": [
    "similar_words = model.most_similar('best')\n",
    "for word, score in similar_words:\n",
    "    print(f\"{word}: {score}\")"
   ]
  },
  {
   "cell_type": "markdown",
   "id": "d46846ff-f5d2-4bc6-b854-72516bfa53b3",
   "metadata": {},
   "source": [
    "Testing 2: Checking similarity between two words"
   ]
  },
  {
   "cell_type": "code",
   "execution_count": 10,
   "id": "d31c41f3-e257-4b29-81e3-f6aeeb5cf5ab",
   "metadata": {
    "scrolled": true
   },
   "outputs": [
    {
     "name": "stdout",
     "output_type": "stream",
     "text": [
      "0.4316191\n"
     ]
    }
   ],
   "source": [
    "similarity = model.similarity(\"can't\", \"cannot\")\n",
    "print(similarity)"
   ]
  },
  {
   "cell_type": "markdown",
   "id": "862b605c-12db-4302-b254-7822c5b9c58e",
   "metadata": {},
   "source": [
    "Testing 3: Checking Vector for specific Word"
   ]
  },
  {
   "cell_type": "code",
   "execution_count": 67,
   "id": "91666893-bb1a-4a87-84ae-fcacd7eb51bc",
   "metadata": {
    "scrolled": true
   },
   "outputs": [
    {
     "name": "stdout",
     "output_type": "stream",
     "text": [
      "[ 0.04345703  0.00183105  0.18457031  0.00671387 -0.11376953  0.00479126\n",
      "  0.07128906 -0.09228516 -0.01531982 -0.09521484 -0.08642578 -0.08544922\n",
      " -0.03125    -0.13476562 -0.19921875 -0.05224609 -0.04956055 -0.03271484\n",
      " -0.08496094 -0.06933594 -0.11328125 -0.01916504 -0.0625      0.19042969\n",
      " -0.03491211  0.10058594 -0.01916504  0.04833984  0.05737305 -0.27539062\n",
      " -0.00204468 -0.08837891 -0.12451172 -0.08398438  0.13085938 -0.14746094\n",
      " -0.00756836 -0.11132812  0.203125   -0.00817871 -0.12695312  0.22851562\n",
      "  0.03588867 -0.00671387  0.05444336 -0.06054688 -0.20214844 -0.09912109\n",
      "  0.01269531  0.15332031  0.0222168   0.01342773 -0.12890625 -0.23632812\n",
      " -0.05126953  0.203125    0.04492188 -0.12695312  0.36914062 -0.05810547\n",
      " -0.03588867 -0.09716797 -0.24707031  0.04589844 -0.296875    0.11132812\n",
      " -0.14550781  0.22558594 -0.02770996  0.03979492 -0.17871094 -0.05932617\n",
      "  0.08544922  0.10009766  0.06103516  0.00473022  0.10546875  0.18847656\n",
      " -0.01196289 -0.01116943  0.10449219  0.08398438  0.03735352  0.07714844\n",
      "  0.26171875 -0.12353516 -0.05297852  0.28710938 -0.140625    0.12207031\n",
      "  0.16699219 -0.14941406 -0.07373047  0.1328125  -0.16308594  0.03027344\n",
      " -0.04394531  0.04956055  0.27148438  0.02026367  0.11962891 -0.10888672\n",
      " -0.03173828  0.04296875 -0.05297852  0.10400391 -0.15820312 -0.04296875\n",
      "  0.2578125  -0.05029297  0.07519531  0.06445312  0.0390625   0.15136719\n",
      "  0.05444336  0.16210938  0.07373047 -0.23046875  0.20996094 -0.13574219\n",
      " -0.02270508  0.1484375  -0.08056641  0.16796875  0.16894531  0.02429199\n",
      " -0.30078125  0.04125977 -0.03076172  0.12597656  0.18359375  0.10351562\n",
      "  0.08203125 -0.06982422  0.06835938  0.1171875   0.28320312 -0.03039551\n",
      " -0.17089844 -0.0378418   0.25585938 -0.14746094 -0.01196289  0.08300781\n",
      "  0.07568359 -0.04589844  0.23730469 -0.04956055  0.03637695 -0.17480469\n",
      "  0.10107422 -0.01153564 -0.10839844  0.0390625  -0.22949219 -0.04711914\n",
      " -0.07958984 -0.01245117 -0.11572266 -0.20800781 -0.05493164 -0.14160156\n",
      " -0.15820312  0.01904297  0.11914062  0.0030365  -0.10546875 -0.16601562\n",
      "  0.01104736 -0.18457031  0.26171875  0.01116943 -0.0100708  -0.05053711\n",
      "  0.02026367 -0.08984375 -0.03088379 -0.25       -0.3046875  -0.07128906\n",
      " -0.07519531 -0.04638672  0.0480957  -0.25195312 -0.06982422 -0.07177734\n",
      "  0.04833984  0.00610352 -0.03613281  0.05810547 -0.26171875  0.00756836\n",
      " -0.08398438 -0.13769531 -0.16210938  0.09619141 -0.14648438 -0.09375\n",
      "  0.02636719 -0.13574219 -0.13378906 -0.02246094  0.0168457   0.328125\n",
      " -0.22265625 -0.06396484  0.09521484 -0.16113281 -0.18945312 -0.26953125\n",
      " -0.12060547  0.01745605  0.00485229  0.04882812  0.06884766  0.2109375\n",
      "  0.05249023  0.12207031 -0.12402344  0.06738281 -0.09912109 -0.25\n",
      "  0.18847656  0.12207031 -0.21484375  0.01361084 -0.02722168 -0.05029297\n",
      " -0.03198242 -0.11425781 -0.04077148  0.00268555  0.09960938 -0.15917969\n",
      " -0.10693359 -0.01757812 -0.20214844  0.11474609  0.11083984  0.02355957\n",
      "  0.20703125 -0.05908203  0.03344727  0.07617188  0.10742188 -0.11816406\n",
      "  0.03222656  0.07128906 -0.0133667  -0.13769531 -0.07470703 -0.20117188\n",
      " -0.03295898 -0.10498047  0.02954102 -0.09667969  0.15136719  0.0279541\n",
      " -0.24902344  0.01342773  0.11425781 -0.0480957  -0.0078125   0.09423828\n",
      "  0.12207031  0.11181641  0.02441406 -0.15429688 -0.31445312 -0.06835938\n",
      "  0.13574219 -0.16601562 -0.07666016 -0.15429688 -0.07275391 -0.18261719\n",
      " -0.06835938  0.09521484  0.13867188 -0.05786133 -0.13964844  0.22949219\n",
      "  0.203125    0.10986328 -0.11230469  0.07177734  0.14941406 -0.1953125\n",
      " -0.11572266  0.20507812 -0.296875   -0.02111816 -0.28125    -0.0390625\n",
      "  0.02478027 -0.06738281  0.1953125   0.01208496  0.01806641  0.20703125]\n"
     ]
    }
   ],
   "source": [
    "vector = model.get_vector('technology')\n",
    "print(vector)"
   ]
  },
  {
   "cell_type": "markdown",
   "id": "7a039151-fdaa-41ed-84bb-3e6e093148e1",
   "metadata": {},
   "source": [
    "Testing 4: Word exist in model or not"
   ]
  },
  {
   "cell_type": "code",
   "execution_count": 12,
   "id": "08abdca2-038e-4c41-a23f-9b212a13ae8d",
   "metadata": {},
   "outputs": [
    {
     "name": "stdout",
     "output_type": "stream",
     "text": [
      "True\n"
     ]
    }
   ],
   "source": [
    "print('python' in model.key_to_index)"
   ]
  },
  {
   "cell_type": "markdown",
   "id": "e747d205-12ce-4f8f-a67f-abc00b823741",
   "metadata": {},
   "source": [
    "Vocab Size"
   ]
  },
  {
   "cell_type": "code",
   "execution_count": 13,
   "id": "9ad8a43b-53ad-4680-b23e-b20d63166326",
   "metadata": {},
   "outputs": [
    {
     "name": "stdout",
     "output_type": "stream",
     "text": [
      "Vocab size: 3000000\n"
     ]
    }
   ],
   "source": [
    "print(\"Vocab size:\", len(model.key_to_index))"
   ]
  },
  {
   "cell_type": "markdown",
   "id": "b67c34ff-8596-43c2-a2d1-28bed96720b9",
   "metadata": {},
   "source": [
    "# Dataset Cleaning"
   ]
  },
  {
   "cell_type": "code",
   "execution_count": 14,
   "id": "f4d9640e-6814-4ef5-ae51-8f104cbc934b",
   "metadata": {},
   "outputs": [],
   "source": [
    "# Creating pandas dataframe for csv\n",
    "train_df = pd.read_csv('train_2.csv', usecols=['selected_text', 'sentiment', 'Age of User'], low_memory=False)"
   ]
  },
  {
   "cell_type": "code",
   "execution_count": 68,
   "id": "d9c5dc42-0d98-4aab-b55a-5f3b89f93c48",
   "metadata": {},
   "outputs": [],
   "source": [
    "df = train_df.copy()"
   ]
  },
  {
   "cell_type": "code",
   "execution_count": 17,
   "id": "c0b9d239-daab-4ec6-b450-88380f30c26c",
   "metadata": {},
   "outputs": [],
   "source": [
    "# Dropping the null values with rows\n",
    "df = df.dropna()"
   ]
  },
  {
   "cell_type": "code",
   "execution_count": 18,
   "id": "893bdee2-d019-4ae6-ae7a-dd95af17c7d4",
   "metadata": {},
   "outputs": [],
   "source": [
    "# Dropping duplicate rows\n",
    "df = df.drop_duplicates()"
   ]
  },
  {
   "cell_type": "code",
   "execution_count": 19,
   "id": "af44037f-5606-48d8-be51-8926b18f48e1",
   "metadata": {},
   "outputs": [],
   "source": [
    "# Label Encoding the target column ('sentiment') for values (Positive, Neutral, Negative)\n",
    "from sklearn.preprocessing import LabelEncoder\n",
    "le = LabelEncoder()\n",
    "df['sentiment'] = le.fit_transform(df['sentiment'])"
   ]
  },
  {
   "cell_type": "markdown",
   "id": "3a1ed0f6-318a-48b4-a44c-f4ff2ecb0323",
   "metadata": {},
   "source": [
    "# Preprocessing"
   ]
  },
  {
   "cell_type": "markdown",
   "id": "c9eb231e-c068-4da2-8e8c-89582bc422b7",
   "metadata": {},
   "source": [
    "Preprocessing 1: Lower Case"
   ]
  },
  {
   "cell_type": "code",
   "execution_count": 20,
   "id": "575531d3-ce71-472f-9d46-b13657436a5f",
   "metadata": {},
   "outputs": [],
   "source": [
    "df['selected_text'] = df['selected_text'].str.lower()"
   ]
  },
  {
   "cell_type": "markdown",
   "id": "5812903c-d860-4022-99e1-b1d9acd4bc92",
   "metadata": {},
   "source": [
    "Preprocessing 2: De-contractions Words"
   ]
  },
  {
   "cell_type": "code",
   "execution_count": 21,
   "id": "efbac954-b763-4c9c-b68a-8d4cc0845a1b",
   "metadata": {},
   "outputs": [],
   "source": [
    "contractions = { \n",
    "\"ain't\": \"am not / are not / is not / has not / have not\",\n",
    "\"aren't\": \"are not / am not\",\n",
    "\"can't\": \"cannot\",\n",
    "\"can't've\": \"cannot have\",\n",
    "\"'cause\": \"because\",\n",
    "\"could've\": \"could have\",\n",
    "\"couldn't\": \"could not\",\n",
    "\"couldn't've\": \"could not have\",\n",
    "\"didn't\": \"did not\",\n",
    "\"doesn't\": \"does not\",\n",
    "\"don't\": \"do not\",\n",
    "\"hadn't\": \"had not\",\n",
    "\"hadn't've\": \"had not have\",\n",
    "\"hasn't\": \"has not\",\n",
    "\"haven't\": \"have not\",\n",
    "\"he'd\": \"he had / he would\",\n",
    "\"he'd've\": \"he would have\",\n",
    "\"he'll\": \"he shall / he will\",\n",
    "\"he'll've\": \"he shall have / he will have\",\n",
    "\"he's\": \"he has / he is\",\n",
    "\"how'd\": \"how did\",\n",
    "\"how'd'y\": \"how do you\",\n",
    "\"how'll\": \"how will\",\n",
    "\"how's\": \"how has / how is / how does\",\n",
    "\"I'd\": \"I had / I would\",\n",
    "\"I'd've\": \"I would have\",\n",
    "\"I'll\": \"I shall / I will\",\n",
    "\"I'll've\": \"I shall have / I will have\",\n",
    "\"I'm\": \"I am\",\n",
    "\"I've\": \"I have\",\n",
    "\"isn't\": \"is not\",\n",
    "\"it'd\": \"it had / it would\",\n",
    "\"it'd've\": \"it would have\",\n",
    "\"it'll\": \"it shall / it will\",\n",
    "\"it'll've\": \"it shall have / it will have\",\n",
    "\"it's\": \"it has / it is\",\n",
    "\"let's\": \"let us\",\n",
    "\"ma'am\": \"madam\",\n",
    "\"mayn't\": \"may not\",\n",
    "\"might've\": \"might have\",\n",
    "\"mightn't\": \"might not\",\n",
    "\"mightn't've\": \"might not have\",\n",
    "\"must've\": \"must have\",\n",
    "\"mustn't\": \"must not\",\n",
    "\"mustn't've\": \"must not have\",\n",
    "\"needn't\": \"need not\",\n",
    "\"needn't've\": \"need not have\",\n",
    "\"o'clock\": \"of the clock\",\n",
    "\"oughtn't\": \"ought not\",\n",
    "\"oughtn't've\": \"ought not have\",\n",
    "\"shan't\": \"shall not\",\n",
    "\"sha'n't\": \"shall not\",\n",
    "\"shan't've\": \"shall not have\",\n",
    "\"she'd\": \"she had / she would\",\n",
    "\"she'd've\": \"she would have\",\n",
    "\"she'll\": \"she shall / she will\",\n",
    "\"she'll've\": \"she shall have / she will have\",\n",
    "\"she's\": \"she has / she is\",\n",
    "\"should've\": \"should have\",\n",
    "\"shouldn't\": \"should not\",\n",
    "\"shouldn't've\": \"should not have\",\n",
    "\"so've\": \"so have\",\n",
    "\"so's\": \"so as / so is\",\n",
    "\"that'd\": \"that would / that had\",\n",
    "\"that'd've\": \"that would have\",\n",
    "\"that's\": \"that has / that is\",\n",
    "\"there'd\": \"there had / there would\",\n",
    "\"there'd've\": \"there would have\",\n",
    "\"there's\": \"there has / there is\",\n",
    "\"they'd\": \"they had / they would\",\n",
    "\"they'd've\": \"they would have\",\n",
    "\"they'll\": \"they shall / they will\",\n",
    "\"they'll've\": \"they shall have / they will have\",\n",
    "\"they're\": \"they are\",\n",
    "\"they've\": \"they have\",\n",
    "\"to've\": \"to have\",\n",
    "\"wasn't\": \"was not\",\n",
    "\"we'd\": \"we had / we would\",\n",
    "\"we'd've\": \"we would have\",\n",
    "\"we'll\": \"we will\",\n",
    "\"we'll've\": \"we will have\",\n",
    "\"we're\": \"we are\",\n",
    "\"we've\": \"we have\",\n",
    "\"weren't\": \"were not\",\n",
    "\"what'll\": \"what shall / what will\",\n",
    "\"what'll've\": \"what shall have / what will have\",\n",
    "\"what're\": \"what are\",\n",
    "\"what's\": \"what has / what is\",\n",
    "\"what've\": \"what have\",\n",
    "\"when's\": \"when has / when is\",\n",
    "\"when've\": \"when have\",\n",
    "\"where'd\": \"where did\",\n",
    "\"where's\": \"where has / where is\",\n",
    "\"where've\": \"where have\",\n",
    "\"who'll\": \"who shall / who will\",\n",
    "\"who'll've\": \"who shall have / who will have\",\n",
    "\"who's\": \"who has / who is\",\n",
    "\"who've\": \"who have\",\n",
    "\"why's\": \"why has / why is\",\n",
    "\"why've\": \"why have\",\n",
    "\"will've\": \"will have\",\n",
    "\"won't\": \"will not\",\n",
    "\"won't've\": \"will not have\",\n",
    "\"would've\": \"would have\",\n",
    "\"wouldn't\": \"would not\",\n",
    "\"wouldn't've\": \"would not have\",\n",
    "\"y'all\": \"you all\",\n",
    "\"y'all'd\": \"you all would\",\n",
    "\"y'all'd've\": \"you all would have\",\n",
    "\"y'all're\": \"you all are\",\n",
    "\"y'all've\": \"you all have\",\n",
    "\"you'd\": \"you had / you would\",\n",
    "\"you'd've\": \"you would have\",\n",
    "\"you'll\": \"you shall / you will\",\n",
    "\"you'll've\": \"you shall have / you will have\",\n",
    "\"you're\": \"you are\",\n",
    "\"you've\": \"you have\"\n",
    "}"
   ]
  },
  {
   "cell_type": "code",
   "execution_count": 22,
   "id": "c6633fea-4dab-40a6-81cc-db84d4dd4bfa",
   "metadata": {},
   "outputs": [],
   "source": [
    "def contr_words(text, contractions_dict):\n",
    "    text = str(text)\n",
    "    for contraction, expansion in contractions_dict.items():\n",
    "        text = re.sub(r'\\b' + re.escape(contraction) + r'\\b', expansion, text, flags=re.IGNORECASE)\n",
    "    return text\n",
    "\n",
    "df['selected_text'] = df['selected_text'].apply(lambda x: contr_words(x, contractions))"
   ]
  },
  {
   "cell_type": "markdown",
   "id": "acb59f0c-f191-4ef1-be30-68a0bad669f5",
   "metadata": {},
   "source": [
    "Preprocessing 3: Removing links"
   ]
  },
  {
   "cell_type": "code",
   "execution_count": 23,
   "id": "247846d8-18a6-4c3b-8252-87eb4ef486fc",
   "metadata": {},
   "outputs": [],
   "source": [
    "# Removing Links using regex expressions.\n",
    "df['selected_text'] = df['selected_text'].str.replace(r'http\\S+|www\\.\\S+', ' ', regex=True)"
   ]
  },
  {
   "cell_type": "markdown",
   "id": "a72160c3-666e-4c20-b377-84b28147d02b",
   "metadata": {},
   "source": [
    "Preprocessing 4: Removing Stopwords"
   ]
  },
  {
   "cell_type": "code",
   "execution_count": null,
   "id": "720bebd2-f2a2-4d58-9e1b-e39334b5ff66",
   "metadata": {},
   "outputs": [],
   "source": [
    "nltk.download('stopwords')\n",
    "english_stopwords = set(stopwords.words('english'))"
   ]
  },
  {
   "cell_type": "code",
   "execution_count": 25,
   "id": "9ddbfb59-9b6a-4aae-b417-26edba38040e",
   "metadata": {},
   "outputs": [],
   "source": [
    "# Removing stopwords using NLTK library.\n",
    "def remove_stopwords(text):\n",
    "    tokens = word_tokenize(text.lower())  \n",
    "    tokens_wo_stopwords = [word for word in tokens if word not in english_stopwords] \n",
    "    return ' '.join(tokens_wo_stopwords)\n",
    "\n",
    "df['selected_text'] = df['selected_text'].apply(remove_stopwords)"
   ]
  },
  {
   "cell_type": "markdown",
   "id": "9ad09d01-d7ad-4ea9-8cb3-30ef5273f09b",
   "metadata": {},
   "source": [
    "Preprocessin 5: Removing HTML"
   ]
  },
  {
   "cell_type": "code",
   "execution_count": 26,
   "id": "05ee50ce-5a4b-4018-bfee-3bc04ec967f8",
   "metadata": {},
   "outputs": [],
   "source": [
    "df['selected_text'] = df['selected_text'].str.replace(r'<[^>]+>', ' ', regex=True)"
   ]
  },
  {
   "cell_type": "markdown",
   "id": "7f584f89-defd-4c84-be7d-4e2ea802065c",
   "metadata": {},
   "source": [
    "Preprocessing 6: Removing Special Characters"
   ]
  },
  {
   "cell_type": "code",
   "execution_count": 27,
   "id": "9ce7403e-6adc-4761-80a0-73c857d48204",
   "metadata": {},
   "outputs": [],
   "source": [
    "df['selected_text'] = df['selected_text'].str.replace(r'[^a-zA-Z0-9\\s]', ' ', regex=True)"
   ]
  },
  {
   "cell_type": "markdown",
   "id": "74f53c7f-75ea-4d5e-942d-9bf94daae359",
   "metadata": {},
   "source": [
    "Preprocessing 7: Removing Punctuation"
   ]
  },
  {
   "cell_type": "code",
   "execution_count": 28,
   "id": "5c5d392f-15a8-481e-9a12-249f96e45c8f",
   "metadata": {},
   "outputs": [],
   "source": [
    "df['selected_text'] = df['selected_text'].str.replace(r'[^\\w\\s]', ' ', regex=True)"
   ]
  },
  {
   "cell_type": "markdown",
   "id": "1d5acfa9-68df-43f7-9618-2cb7f967e9b4",
   "metadata": {},
   "source": [
    "Preprocessing 8: Removing Extra Spaces"
   ]
  },
  {
   "cell_type": "code",
   "execution_count": 29,
   "id": "e97140e6-ddf2-4f24-ada5-6365936e7113",
   "metadata": {},
   "outputs": [],
   "source": [
    "# Replacing multiple spaces with single space\n",
    "df['selected_text'] = df['selected_text'].str.replace(r'\\s+', ' ', regex=True)"
   ]
  },
  {
   "cell_type": "markdown",
   "id": "b5d14981-b0e9-4cc4-bd30-72ee59a86656",
   "metadata": {},
   "source": [
    "# Implementing Word2Vec Model"
   ]
  },
  {
   "cell_type": "code",
   "execution_count": 32,
   "id": "a68dddea-bca7-42bb-92aa-d2b6280d4983",
   "metadata": {},
   "outputs": [],
   "source": [
    "# Converting text into a numerical vector representation\n",
    "# Using pre-trained Word2Vec model to represent words as numerical vectors\n",
    "def text_to_word2vec_vector(text):\n",
    "    words = text.split()\n",
    "    \n",
    "    vector = np.zeros(model.vector_size)  \n",
    "    word_count = 0\n",
    "    \n",
    "    for word in words:\n",
    "        if word in model.key_to_index:\n",
    "            vector += model.get_vector(word)\n",
    "            word_count += 1\n",
    "        \n",
    "    if word_count > 0:\n",
    "        vector /= word_count\n",
    "    \n",
    "    return vector"
   ]
  },
  {
   "cell_type": "markdown",
   "id": "149bbd9e-14a7-49af-92bd-b2f6b7781c02",
   "metadata": {},
   "source": [
    "# Train, Test, Split"
   ]
  },
  {
   "cell_type": "code",
   "execution_count": 33,
   "id": "69e505aa-1f99-4efc-ab4a-cb79cfed1a75",
   "metadata": {},
   "outputs": [],
   "source": [
    "X = df['selected_text'].apply(text_to_word2vec_vector).tolist()\n",
    "X = np.array(X)  \n",
    "y = df['sentiment']"
   ]
  },
  {
   "cell_type": "code",
   "execution_count": 34,
   "id": "af3c9549-3b97-4fdc-92be-e7ba742d3e93",
   "metadata": {},
   "outputs": [
    {
     "data": {
      "text/plain": [
       "(24160, 300)"
      ]
     },
     "execution_count": 34,
     "metadata": {},
     "output_type": "execute_result"
    }
   ],
   "source": [
    "X.shape"
   ]
  },
  {
   "cell_type": "code",
   "execution_count": 35,
   "id": "151874ac-6ba6-4d01-a431-6131530aeb96",
   "metadata": {},
   "outputs": [],
   "source": [
    "# Spliting Train and test data by 90% (train) and 10% (test).\n",
    "X_train, X_test, y_train, y_test = train_test_split(\n",
    "    X, y, test_size=0.1, random_state=42\n",
    ")"
   ]
  },
  {
   "cell_type": "markdown",
   "id": "4d8499a0-7158-4f7c-b075-aec5571f8e47",
   "metadata": {},
   "source": [
    "# Model 1: Random Forest"
   ]
  },
  {
   "cell_type": "code",
   "execution_count": 36,
   "id": "c3c2ea01-ec19-48f3-86bf-cd77f95039ce",
   "metadata": {},
   "outputs": [],
   "source": [
    "# Defining model parameters\n",
    "rf_classifier = RandomForestClassifier(\n",
    "    n_estimators=100, \n",
    "    random_state=42\n",
    ")"
   ]
  },
  {
   "cell_type": "code",
   "execution_count": 37,
   "id": "ba03489f-3e6d-46e9-8064-b0dd49041a72",
   "metadata": {},
   "outputs": [],
   "source": [
    "# Start training of model\n",
    "start_time = time.time()\n",
    "rf_classifier.fit(X_train, y_train)\n",
    "rf_training_time = time.time() - start_time\n",
    "rf_pred = rf_classifier.predict(X_test)"
   ]
  },
  {
   "cell_type": "code",
   "execution_count": 38,
   "id": "bdd9e9ec-dd6f-4b72-901a-3c1e77590d95",
   "metadata": {},
   "outputs": [
    {
     "name": "stdout",
     "output_type": "stream",
     "text": [
      "Accuracy: 0.7690397350993378\n",
      "RF Training Time: 35.3709 seconds\n"
     ]
    }
   ],
   "source": [
    "print(\"Accuracy:\", accuracy_score(y_test, rf_pred))\n",
    "print(\"RF Training Time: {:.4f} seconds\".format(rf_training_time))"
   ]
  },
  {
   "cell_type": "markdown",
   "id": "73374b64-40b3-4a32-bd31-f353013d0aa6",
   "metadata": {},
   "source": [
    "# Model 2: Logistic Regression"
   ]
  },
  {
   "cell_type": "code",
   "execution_count": 39,
   "id": "7469c778-b5d2-4e26-82ea-b10e8d8dea57",
   "metadata": {},
   "outputs": [],
   "source": [
    "# Defining model parameters and start training\n",
    "from sklearn.linear_model import LogisticRegression\n",
    "\n",
    "lr_classifier = LogisticRegression(\n",
    "    max_iter=1000,\n",
    "    random_state=42\n",
    ")\n",
    "\n",
    "start_time = time.time()\n",
    "lr_classifier.fit(X_train, y_train)\n",
    "lr_training_time = time.time() - start_time\n",
    "lr_pred = lr_classifier.predict(X_test)"
   ]
  },
  {
   "cell_type": "code",
   "execution_count": 40,
   "id": "ef531c57-8adc-461a-9d79-ae51bbdf1170",
   "metadata": {},
   "outputs": [
    {
     "name": "stdout",
     "output_type": "stream",
     "text": [
      "Accuracy: 0.7682119205298014\n",
      "LR Training Time: 0.4062 seconds\n"
     ]
    }
   ],
   "source": [
    "print(\"Accuracy:\", accuracy_score(y_test, lr_pred))\n",
    "print(\"LR Training Time: {:.4f} seconds\".format(lr_training_time))"
   ]
  },
  {
   "cell_type": "markdown",
   "id": "47a0491f-feb4-417e-9434-aa88be1db5a0",
   "metadata": {},
   "source": [
    "# Model 3: SVM "
   ]
  },
  {
   "cell_type": "code",
   "execution_count": 41,
   "id": "917acd38-75ce-4a7d-876b-d4ef71c5943a",
   "metadata": {},
   "outputs": [],
   "source": [
    "# Defining model parameters and start training\n",
    "from sklearn.svm import SVC\n",
    "\n",
    "svm_classifier = SVC(\n",
    "    kernel='rbf',  \n",
    "    C=1.0,         \n",
    "    random_state=42\n",
    ")\n",
    "\n",
    "start_time = time.time()\n",
    "svm_classifier.fit(X_train, y_train)\n",
    "svm_training_time = time.time() - start_time\n",
    "svm_pred = svm_classifier.predict(X_test)"
   ]
  },
  {
   "cell_type": "code",
   "execution_count": 42,
   "id": "a4e07b39-c038-43a0-913f-ad3a99c96d72",
   "metadata": {},
   "outputs": [
    {
     "name": "stdout",
     "output_type": "stream",
     "text": [
      "Accuracy: 0.7984271523178808\n",
      "SVM Training Time: 38.3339 seconds\n"
     ]
    }
   ],
   "source": [
    "print(\"Accuracy:\", accuracy_score(y_test, svm_pred))\n",
    "print(\"SVM Training Time: {:.4f} seconds\".format(svm_training_time))"
   ]
  },
  {
   "cell_type": "markdown",
   "id": "505172bd-dccf-460f-bade-d1fef5ed0657",
   "metadata": {},
   "source": [
    "# Model 4: Naive Bayes"
   ]
  },
  {
   "cell_type": "code",
   "execution_count": 53,
   "id": "0c73a56f-573d-4268-a321-dc8819067be2",
   "metadata": {},
   "outputs": [
    {
     "data": {
      "text/html": [
       "<style>#sk-container-id-1 {\n",
       "  /* Definition of color scheme common for light and dark mode */\n",
       "  --sklearn-color-text: black;\n",
       "  --sklearn-color-line: gray;\n",
       "  /* Definition of color scheme for unfitted estimators */\n",
       "  --sklearn-color-unfitted-level-0: #fff5e6;\n",
       "  --sklearn-color-unfitted-level-1: #f6e4d2;\n",
       "  --sklearn-color-unfitted-level-2: #ffe0b3;\n",
       "  --sklearn-color-unfitted-level-3: chocolate;\n",
       "  /* Definition of color scheme for fitted estimators */\n",
       "  --sklearn-color-fitted-level-0: #f0f8ff;\n",
       "  --sklearn-color-fitted-level-1: #d4ebff;\n",
       "  --sklearn-color-fitted-level-2: #b3dbfd;\n",
       "  --sklearn-color-fitted-level-3: cornflowerblue;\n",
       "\n",
       "  /* Specific color for light theme */\n",
       "  --sklearn-color-text-on-default-background: var(--sg-text-color, var(--theme-code-foreground, var(--jp-content-font-color1, black)));\n",
       "  --sklearn-color-background: var(--sg-background-color, var(--theme-background, var(--jp-layout-color0, white)));\n",
       "  --sklearn-color-border-box: var(--sg-text-color, var(--theme-code-foreground, var(--jp-content-font-color1, black)));\n",
       "  --sklearn-color-icon: #696969;\n",
       "\n",
       "  @media (prefers-color-scheme: dark) {\n",
       "    /* Redefinition of color scheme for dark theme */\n",
       "    --sklearn-color-text-on-default-background: var(--sg-text-color, var(--theme-code-foreground, var(--jp-content-font-color1, white)));\n",
       "    --sklearn-color-background: var(--sg-background-color, var(--theme-background, var(--jp-layout-color0, #111)));\n",
       "    --sklearn-color-border-box: var(--sg-text-color, var(--theme-code-foreground, var(--jp-content-font-color1, white)));\n",
       "    --sklearn-color-icon: #878787;\n",
       "  }\n",
       "}\n",
       "\n",
       "#sk-container-id-1 {\n",
       "  color: var(--sklearn-color-text);\n",
       "}\n",
       "\n",
       "#sk-container-id-1 pre {\n",
       "  padding: 0;\n",
       "}\n",
       "\n",
       "#sk-container-id-1 input.sk-hidden--visually {\n",
       "  border: 0;\n",
       "  clip: rect(1px 1px 1px 1px);\n",
       "  clip: rect(1px, 1px, 1px, 1px);\n",
       "  height: 1px;\n",
       "  margin: -1px;\n",
       "  overflow: hidden;\n",
       "  padding: 0;\n",
       "  position: absolute;\n",
       "  width: 1px;\n",
       "}\n",
       "\n",
       "#sk-container-id-1 div.sk-dashed-wrapped {\n",
       "  border: 1px dashed var(--sklearn-color-line);\n",
       "  margin: 0 0.4em 0.5em 0.4em;\n",
       "  box-sizing: border-box;\n",
       "  padding-bottom: 0.4em;\n",
       "  background-color: var(--sklearn-color-background);\n",
       "}\n",
       "\n",
       "#sk-container-id-1 div.sk-container {\n",
       "  /* jupyter's `normalize.less` sets `[hidden] { display: none; }`\n",
       "     but bootstrap.min.css set `[hidden] { display: none !important; }`\n",
       "     so we also need the `!important` here to be able to override the\n",
       "     default hidden behavior on the sphinx rendered scikit-learn.org.\n",
       "     See: https://github.com/scikit-learn/scikit-learn/issues/21755 */\n",
       "  display: inline-block !important;\n",
       "  position: relative;\n",
       "}\n",
       "\n",
       "#sk-container-id-1 div.sk-text-repr-fallback {\n",
       "  display: none;\n",
       "}\n",
       "\n",
       "div.sk-parallel-item,\n",
       "div.sk-serial,\n",
       "div.sk-item {\n",
       "  /* draw centered vertical line to link estimators */\n",
       "  background-image: linear-gradient(var(--sklearn-color-text-on-default-background), var(--sklearn-color-text-on-default-background));\n",
       "  background-size: 2px 100%;\n",
       "  background-repeat: no-repeat;\n",
       "  background-position: center center;\n",
       "}\n",
       "\n",
       "/* Parallel-specific style estimator block */\n",
       "\n",
       "#sk-container-id-1 div.sk-parallel-item::after {\n",
       "  content: \"\";\n",
       "  width: 100%;\n",
       "  border-bottom: 2px solid var(--sklearn-color-text-on-default-background);\n",
       "  flex-grow: 1;\n",
       "}\n",
       "\n",
       "#sk-container-id-1 div.sk-parallel {\n",
       "  display: flex;\n",
       "  align-items: stretch;\n",
       "  justify-content: center;\n",
       "  background-color: var(--sklearn-color-background);\n",
       "  position: relative;\n",
       "}\n",
       "\n",
       "#sk-container-id-1 div.sk-parallel-item {\n",
       "  display: flex;\n",
       "  flex-direction: column;\n",
       "}\n",
       "\n",
       "#sk-container-id-1 div.sk-parallel-item:first-child::after {\n",
       "  align-self: flex-end;\n",
       "  width: 50%;\n",
       "}\n",
       "\n",
       "#sk-container-id-1 div.sk-parallel-item:last-child::after {\n",
       "  align-self: flex-start;\n",
       "  width: 50%;\n",
       "}\n",
       "\n",
       "#sk-container-id-1 div.sk-parallel-item:only-child::after {\n",
       "  width: 0;\n",
       "}\n",
       "\n",
       "/* Serial-specific style estimator block */\n",
       "\n",
       "#sk-container-id-1 div.sk-serial {\n",
       "  display: flex;\n",
       "  flex-direction: column;\n",
       "  align-items: center;\n",
       "  background-color: var(--sklearn-color-background);\n",
       "  padding-right: 1em;\n",
       "  padding-left: 1em;\n",
       "}\n",
       "\n",
       "\n",
       "/* Toggleable style: style used for estimator/Pipeline/ColumnTransformer box that is\n",
       "clickable and can be expanded/collapsed.\n",
       "- Pipeline and ColumnTransformer use this feature and define the default style\n",
       "- Estimators will overwrite some part of the style using the `sk-estimator` class\n",
       "*/\n",
       "\n",
       "/* Pipeline and ColumnTransformer style (default) */\n",
       "\n",
       "#sk-container-id-1 div.sk-toggleable {\n",
       "  /* Default theme specific background. It is overwritten whether we have a\n",
       "  specific estimator or a Pipeline/ColumnTransformer */\n",
       "  background-color: var(--sklearn-color-background);\n",
       "}\n",
       "\n",
       "/* Toggleable label */\n",
       "#sk-container-id-1 label.sk-toggleable__label {\n",
       "  cursor: pointer;\n",
       "  display: block;\n",
       "  width: 100%;\n",
       "  margin-bottom: 0;\n",
       "  padding: 0.5em;\n",
       "  box-sizing: border-box;\n",
       "  text-align: center;\n",
       "}\n",
       "\n",
       "#sk-container-id-1 label.sk-toggleable__label-arrow:before {\n",
       "  /* Arrow on the left of the label */\n",
       "  content: \"▸\";\n",
       "  float: left;\n",
       "  margin-right: 0.25em;\n",
       "  color: var(--sklearn-color-icon);\n",
       "}\n",
       "\n",
       "#sk-container-id-1 label.sk-toggleable__label-arrow:hover:before {\n",
       "  color: var(--sklearn-color-text);\n",
       "}\n",
       "\n",
       "/* Toggleable content - dropdown */\n",
       "\n",
       "#sk-container-id-1 div.sk-toggleable__content {\n",
       "  max-height: 0;\n",
       "  max-width: 0;\n",
       "  overflow: hidden;\n",
       "  text-align: left;\n",
       "  /* unfitted */\n",
       "  background-color: var(--sklearn-color-unfitted-level-0);\n",
       "}\n",
       "\n",
       "#sk-container-id-1 div.sk-toggleable__content.fitted {\n",
       "  /* fitted */\n",
       "  background-color: var(--sklearn-color-fitted-level-0);\n",
       "}\n",
       "\n",
       "#sk-container-id-1 div.sk-toggleable__content pre {\n",
       "  margin: 0.2em;\n",
       "  border-radius: 0.25em;\n",
       "  color: var(--sklearn-color-text);\n",
       "  /* unfitted */\n",
       "  background-color: var(--sklearn-color-unfitted-level-0);\n",
       "}\n",
       "\n",
       "#sk-container-id-1 div.sk-toggleable__content.fitted pre {\n",
       "  /* unfitted */\n",
       "  background-color: var(--sklearn-color-fitted-level-0);\n",
       "}\n",
       "\n",
       "#sk-container-id-1 input.sk-toggleable__control:checked~div.sk-toggleable__content {\n",
       "  /* Expand drop-down */\n",
       "  max-height: 200px;\n",
       "  max-width: 100%;\n",
       "  overflow: auto;\n",
       "}\n",
       "\n",
       "#sk-container-id-1 input.sk-toggleable__control:checked~label.sk-toggleable__label-arrow:before {\n",
       "  content: \"▾\";\n",
       "}\n",
       "\n",
       "/* Pipeline/ColumnTransformer-specific style */\n",
       "\n",
       "#sk-container-id-1 div.sk-label input.sk-toggleable__control:checked~label.sk-toggleable__label {\n",
       "  color: var(--sklearn-color-text);\n",
       "  background-color: var(--sklearn-color-unfitted-level-2);\n",
       "}\n",
       "\n",
       "#sk-container-id-1 div.sk-label.fitted input.sk-toggleable__control:checked~label.sk-toggleable__label {\n",
       "  background-color: var(--sklearn-color-fitted-level-2);\n",
       "}\n",
       "\n",
       "/* Estimator-specific style */\n",
       "\n",
       "/* Colorize estimator box */\n",
       "#sk-container-id-1 div.sk-estimator input.sk-toggleable__control:checked~label.sk-toggleable__label {\n",
       "  /* unfitted */\n",
       "  background-color: var(--sklearn-color-unfitted-level-2);\n",
       "}\n",
       "\n",
       "#sk-container-id-1 div.sk-estimator.fitted input.sk-toggleable__control:checked~label.sk-toggleable__label {\n",
       "  /* fitted */\n",
       "  background-color: var(--sklearn-color-fitted-level-2);\n",
       "}\n",
       "\n",
       "#sk-container-id-1 div.sk-label label.sk-toggleable__label,\n",
       "#sk-container-id-1 div.sk-label label {\n",
       "  /* The background is the default theme color */\n",
       "  color: var(--sklearn-color-text-on-default-background);\n",
       "}\n",
       "\n",
       "/* On hover, darken the color of the background */\n",
       "#sk-container-id-1 div.sk-label:hover label.sk-toggleable__label {\n",
       "  color: var(--sklearn-color-text);\n",
       "  background-color: var(--sklearn-color-unfitted-level-2);\n",
       "}\n",
       "\n",
       "/* Label box, darken color on hover, fitted */\n",
       "#sk-container-id-1 div.sk-label.fitted:hover label.sk-toggleable__label.fitted {\n",
       "  color: var(--sklearn-color-text);\n",
       "  background-color: var(--sklearn-color-fitted-level-2);\n",
       "}\n",
       "\n",
       "/* Estimator label */\n",
       "\n",
       "#sk-container-id-1 div.sk-label label {\n",
       "  font-family: monospace;\n",
       "  font-weight: bold;\n",
       "  display: inline-block;\n",
       "  line-height: 1.2em;\n",
       "}\n",
       "\n",
       "#sk-container-id-1 div.sk-label-container {\n",
       "  text-align: center;\n",
       "}\n",
       "\n",
       "/* Estimator-specific */\n",
       "#sk-container-id-1 div.sk-estimator {\n",
       "  font-family: monospace;\n",
       "  border: 1px dotted var(--sklearn-color-border-box);\n",
       "  border-radius: 0.25em;\n",
       "  box-sizing: border-box;\n",
       "  margin-bottom: 0.5em;\n",
       "  /* unfitted */\n",
       "  background-color: var(--sklearn-color-unfitted-level-0);\n",
       "}\n",
       "\n",
       "#sk-container-id-1 div.sk-estimator.fitted {\n",
       "  /* fitted */\n",
       "  background-color: var(--sklearn-color-fitted-level-0);\n",
       "}\n",
       "\n",
       "/* on hover */\n",
       "#sk-container-id-1 div.sk-estimator:hover {\n",
       "  /* unfitted */\n",
       "  background-color: var(--sklearn-color-unfitted-level-2);\n",
       "}\n",
       "\n",
       "#sk-container-id-1 div.sk-estimator.fitted:hover {\n",
       "  /* fitted */\n",
       "  background-color: var(--sklearn-color-fitted-level-2);\n",
       "}\n",
       "\n",
       "/* Specification for estimator info (e.g. \"i\" and \"?\") */\n",
       "\n",
       "/* Common style for \"i\" and \"?\" */\n",
       "\n",
       ".sk-estimator-doc-link,\n",
       "a:link.sk-estimator-doc-link,\n",
       "a:visited.sk-estimator-doc-link {\n",
       "  float: right;\n",
       "  font-size: smaller;\n",
       "  line-height: 1em;\n",
       "  font-family: monospace;\n",
       "  background-color: var(--sklearn-color-background);\n",
       "  border-radius: 1em;\n",
       "  height: 1em;\n",
       "  width: 1em;\n",
       "  text-decoration: none !important;\n",
       "  margin-left: 1ex;\n",
       "  /* unfitted */\n",
       "  border: var(--sklearn-color-unfitted-level-1) 1pt solid;\n",
       "  color: var(--sklearn-color-unfitted-level-1);\n",
       "}\n",
       "\n",
       ".sk-estimator-doc-link.fitted,\n",
       "a:link.sk-estimator-doc-link.fitted,\n",
       "a:visited.sk-estimator-doc-link.fitted {\n",
       "  /* fitted */\n",
       "  border: var(--sklearn-color-fitted-level-1) 1pt solid;\n",
       "  color: var(--sklearn-color-fitted-level-1);\n",
       "}\n",
       "\n",
       "/* On hover */\n",
       "div.sk-estimator:hover .sk-estimator-doc-link:hover,\n",
       ".sk-estimator-doc-link:hover,\n",
       "div.sk-label-container:hover .sk-estimator-doc-link:hover,\n",
       ".sk-estimator-doc-link:hover {\n",
       "  /* unfitted */\n",
       "  background-color: var(--sklearn-color-unfitted-level-3);\n",
       "  color: var(--sklearn-color-background);\n",
       "  text-decoration: none;\n",
       "}\n",
       "\n",
       "div.sk-estimator.fitted:hover .sk-estimator-doc-link.fitted:hover,\n",
       ".sk-estimator-doc-link.fitted:hover,\n",
       "div.sk-label-container:hover .sk-estimator-doc-link.fitted:hover,\n",
       ".sk-estimator-doc-link.fitted:hover {\n",
       "  /* fitted */\n",
       "  background-color: var(--sklearn-color-fitted-level-3);\n",
       "  color: var(--sklearn-color-background);\n",
       "  text-decoration: none;\n",
       "}\n",
       "\n",
       "/* Span, style for the box shown on hovering the info icon */\n",
       ".sk-estimator-doc-link span {\n",
       "  display: none;\n",
       "  z-index: 9999;\n",
       "  position: relative;\n",
       "  font-weight: normal;\n",
       "  right: .2ex;\n",
       "  padding: .5ex;\n",
       "  margin: .5ex;\n",
       "  width: min-content;\n",
       "  min-width: 20ex;\n",
       "  max-width: 50ex;\n",
       "  color: var(--sklearn-color-text);\n",
       "  box-shadow: 2pt 2pt 4pt #999;\n",
       "  /* unfitted */\n",
       "  background: var(--sklearn-color-unfitted-level-0);\n",
       "  border: .5pt solid var(--sklearn-color-unfitted-level-3);\n",
       "}\n",
       "\n",
       ".sk-estimator-doc-link.fitted span {\n",
       "  /* fitted */\n",
       "  background: var(--sklearn-color-fitted-level-0);\n",
       "  border: var(--sklearn-color-fitted-level-3);\n",
       "}\n",
       "\n",
       ".sk-estimator-doc-link:hover span {\n",
       "  display: block;\n",
       "}\n",
       "\n",
       "/* \"?\"-specific style due to the `<a>` HTML tag */\n",
       "\n",
       "#sk-container-id-1 a.estimator_doc_link {\n",
       "  float: right;\n",
       "  font-size: 1rem;\n",
       "  line-height: 1em;\n",
       "  font-family: monospace;\n",
       "  background-color: var(--sklearn-color-background);\n",
       "  border-radius: 1rem;\n",
       "  height: 1rem;\n",
       "  width: 1rem;\n",
       "  text-decoration: none;\n",
       "  /* unfitted */\n",
       "  color: var(--sklearn-color-unfitted-level-1);\n",
       "  border: var(--sklearn-color-unfitted-level-1) 1pt solid;\n",
       "}\n",
       "\n",
       "#sk-container-id-1 a.estimator_doc_link.fitted {\n",
       "  /* fitted */\n",
       "  border: var(--sklearn-color-fitted-level-1) 1pt solid;\n",
       "  color: var(--sklearn-color-fitted-level-1);\n",
       "}\n",
       "\n",
       "/* On hover */\n",
       "#sk-container-id-1 a.estimator_doc_link:hover {\n",
       "  /* unfitted */\n",
       "  background-color: var(--sklearn-color-unfitted-level-3);\n",
       "  color: var(--sklearn-color-background);\n",
       "  text-decoration: none;\n",
       "}\n",
       "\n",
       "#sk-container-id-1 a.estimator_doc_link.fitted:hover {\n",
       "  /* fitted */\n",
       "  background-color: var(--sklearn-color-fitted-level-3);\n",
       "}\n",
       "</style><div id=\"sk-container-id-1\" class=\"sk-top-container\"><div class=\"sk-text-repr-fallback\"><pre>MultinomialNB()</pre><b>In a Jupyter environment, please rerun this cell to show the HTML representation or trust the notebook. <br />On GitHub, the HTML representation is unable to render, please try loading this page with nbviewer.org.</b></div><div class=\"sk-container\" hidden><div class=\"sk-item\"><div class=\"sk-estimator fitted sk-toggleable\"><input class=\"sk-toggleable__control sk-hidden--visually\" id=\"sk-estimator-id-1\" type=\"checkbox\" checked><label for=\"sk-estimator-id-1\" class=\"sk-toggleable__label fitted sk-toggleable__label-arrow fitted\">&nbsp;&nbsp;MultinomialNB<a class=\"sk-estimator-doc-link fitted\" rel=\"noreferrer\" target=\"_blank\" href=\"https://scikit-learn.org/1.5/modules/generated/sklearn.naive_bayes.MultinomialNB.html\">?<span>Documentation for MultinomialNB</span></a><span class=\"sk-estimator-doc-link fitted\">i<span>Fitted</span></span></label><div class=\"sk-toggleable__content fitted\"><pre>MultinomialNB()</pre></div> </div></div></div></div>"
      ],
      "text/plain": [
       "MultinomialNB()"
      ]
     },
     "execution_count": 53,
     "metadata": {},
     "output_type": "execute_result"
    }
   ],
   "source": [
    "# Start training of model\n",
    "from sklearn.preprocessing import MinMaxScaler\n",
    "from sklearn.naive_bayes import MultinomialNB\n",
    "\n",
    "scaler = MinMaxScaler()\n",
    "X_train_scaled = scaler.fit_transform(X_train)\n",
    "X_test_scaled = scaler.transform(X_test)\n",
    "\n",
    "nb_classifier = MultinomialNB()\n",
    "nb_classifier.fit(X_train_scaled, y_train)"
   ]
  },
  {
   "cell_type": "code",
   "execution_count": 54,
   "id": "da6fae7b-541f-479a-9b38-abda68cd7054",
   "metadata": {},
   "outputs": [
    {
     "name": "stdout",
     "output_type": "stream",
     "text": [
      "Accuracy: 0.6783940397350994\n"
     ]
    }
   ],
   "source": [
    "y_pred = nb_classifier.predict(X_test)\n",
    "print(\"Accuracy:\", accuracy_score(y_test, y_pred))"
   ]
  },
  {
   "cell_type": "markdown",
   "id": "e73bbaf7-ab35-412c-aa6c-99ed208fe698",
   "metadata": {},
   "source": [
    "# Hyper tunning: SVM"
   ]
  },
  {
   "cell_type": "code",
   "execution_count": 43,
   "id": "433e73c8-530c-4f84-98f3-7723309d472a",
   "metadata": {},
   "outputs": [],
   "source": [
    "# Using GridSearchCV implemented muliple parameters list for hyper tunning for SVM Model\n",
    "from sklearn.model_selection import GridSearchCV\n",
    "\n",
    "param_grid = {\n",
    "    'C': [0.1, 1, 10, 100], \n",
    "    'gamma': ['scale', 'auto', 0.1, 1, 10],  \n",
    "    'kernel': ['rbf', 'poly', 'sigmoid'] \n",
    "}\n",
    "\n",
    "svm_classifier = SVC(random_state=42)\n",
    "\n",
    "start_time = time.time()\n",
    "grid_search = GridSearchCV(\n",
    "    estimator=svm_classifier, \n",
    "    param_grid=param_grid, \n",
    "    cv=5,  \n",
    "    scoring='accuracy',\n",
    "    n_jobs=-1  \n",
    ")"
   ]
  },
  {
   "cell_type": "code",
   "execution_count": null,
   "id": "5ac4565c-5dd6-4135-84eb-d1381ac0d4ba",
   "metadata": {},
   "outputs": [],
   "source": [
    "grid_search.fit(X_train, y_train)\n",
    "best_svm = grid_search.best_estimator_\n",
    "svm_pred = best_svm.predict(X_test)\n",
    "svm_training_time = time.time() - start_time"
   ]
  },
  {
   "cell_type": "code",
   "execution_count": 60,
   "id": "3b82cba7-46b0-4d8c-8fc4-60b8cf5c50d9",
   "metadata": {},
   "outputs": [
    {
     "name": "stdout",
     "output_type": "stream",
     "text": [
      "Best Parameters: {'max_depth': None, 'min_samples_leaf': 1, 'min_samples_split': 10, 'n_estimators': 200}\n",
      "Test Accuracy: 0.7984271523178808\n",
      "SVM Training Time: 4912.2493 seconds\n"
     ]
    }
   ],
   "source": [
    "print(\"Best Parameters:\", grid_search.best_params_)\n",
    "print(\"Test Accuracy:\", accuracy_score(y_test, svm_pred))\n",
    "print(\"SVM Training Time: {:.4f} seconds\".format(svm_training_time))"
   ]
  },
  {
   "cell_type": "markdown",
   "id": "75186c67-cc93-43c4-a872-83ca0dd333ea",
   "metadata": {},
   "source": [
    "# Hyper tunning: Random Forest"
   ]
  },
  {
   "cell_type": "code",
   "execution_count": 49,
   "id": "790f57a2-5dd9-4617-8e0f-dcb8885195b0",
   "metadata": {},
   "outputs": [],
   "source": [
    "# Using GridSearchCV implemented muliple parameters list for hyper tunning for Random Forest Model\n",
    "param_grid = {\n",
    "    'n_estimators': [50, 100, 200],\n",
    "    'max_depth': [None, 10, 20, 30],\n",
    "    'min_samples_split': [2, 5, 10],\n",
    "    'min_samples_leaf': [1, 2, 4]\n",
    "}"
   ]
  },
  {
   "cell_type": "code",
   "execution_count": 50,
   "id": "8912e882-a87b-40d7-97f1-e96399fb0514",
   "metadata": {},
   "outputs": [],
   "source": [
    "rf_classifier = RandomForestClassifier(random_state=42)\n",
    "\n",
    "start_time = time.time()\n",
    "grid_search = GridSearchCV(\n",
    "    estimator=rf_classifier, \n",
    "    param_grid=param_grid, \n",
    "    cv=5, \n",
    "    n_jobs=-1,\n",
    "    verbose=2\n",
    ")"
   ]
  },
  {
   "cell_type": "code",
   "execution_count": null,
   "id": "8e9b50bc-3521-4250-8db9-3ecd8977204c",
   "metadata": {},
   "outputs": [],
   "source": [
    "grid_search.fit(X_train, y_train)\n",
    "best_rf_classifier = grid_search.best_estimator_\n",
    "training_time = time.time() - start_time\n",
    "rf_pred = best_rf_classifier.predict(X_test)"
   ]
  },
  {
   "cell_type": "code",
   "execution_count": 52,
   "id": "4d3b16c5-9122-47fa-9d7e-9b5029421c2b",
   "metadata": {},
   "outputs": [
    {
     "name": "stdout",
     "output_type": "stream",
     "text": [
      "Best Parameters: {'max_depth': None, 'min_samples_leaf': 1, 'min_samples_split': 10, 'n_estimators': 200}\n",
      "Test Accuracy: 0.7690397350993378\n",
      "Training Time: 1449.5872 seconds\n"
     ]
    }
   ],
   "source": [
    "print(\"Best Parameters:\", grid_search.best_params_)\n",
    "print(\"Test Accuracy:\", accuracy_score(y_test, rf_pred))\n",
    "print(\"Training Time: {:.4f} seconds\".format(training_time))"
   ]
  },
  {
   "cell_type": "markdown",
   "id": "3f066ae1-a263-4add-800a-3c9f8492382f",
   "metadata": {},
   "source": [
    "# Hyper Tuning: Naive Bayes"
   ]
  },
  {
   "cell_type": "code",
   "execution_count": 64,
   "id": "7f3c6854-c784-4f63-abae-8b4c8155f5fa",
   "metadata": {},
   "outputs": [],
   "source": [
    "# Using GridSearchCV implemented muliple parameters list for hyper tunning for Naive Bayes Model\n",
    "scaler = MinMaxScaler()\n",
    "X_train_scaled = scaler.fit_transform(X_train)\n",
    "X_test_scaled = scaler.transform(X_test)\n",
    "\n",
    "param_grid = {\n",
    "    'alpha': [0.001, 0.01, 0.1, 1, 10],  \n",
    "    'fit_prior': [True, False]\n",
    "}\n",
    "\n",
    "grid_search = GridSearchCV(\n",
    "    MultinomialNB(), \n",
    "    param_grid, \n",
    "    cv=5, \n",
    "    scoring='accuracy'\n",
    ")"
   ]
  },
  {
   "cell_type": "code",
   "execution_count": 65,
   "id": "fb17eac3-d95a-40e8-b3bf-5fc849a18e6a",
   "metadata": {},
   "outputs": [],
   "source": [
    "grid_search.fit(X_train_scaled, y_train)\n",
    "best_nb_classifier = grid_search.best_estimator_\n",
    "y_pred = best_nb_classifier.predict(X_test_scaled)"
   ]
  },
  {
   "cell_type": "code",
   "execution_count": 66,
   "id": "3d501f1f-1000-45e3-99d2-a13639f0b0f9",
   "metadata": {},
   "outputs": [
    {
     "name": "stdout",
     "output_type": "stream",
     "text": [
      "Best Parameters: {'alpha': 1, 'fit_prior': False}\n",
      "Test Set Accuracy: 0.7392384105960265\n"
     ]
    }
   ],
   "source": [
    "print(\"Best Parameters:\", grid_search.best_params_)\n",
    "print(\"Test Set Accuracy:\", accuracy_score(y_test, y_pred))"
   ]
  },
  {
   "cell_type": "markdown",
   "id": "f7291764-8b5a-488c-ac2b-eba828f5fd93",
   "metadata": {},
   "source": [
    "# Extracting Models"
   ]
  },
  {
   "cell_type": "code",
   "execution_count": 55,
   "id": "78bd5f65-c9f9-481c-91f5-419b2308ef14",
   "metadata": {},
   "outputs": [],
   "source": [
    "# Extracting the trained models using joblib module\n",
    "import joblib\n",
    "joblib.dump(svm_classifier, 'sentiment_svm_model.joblib')\n",
    "joblib.dump(rf_classifier, 'sentiment_rf_model.joblib')\n",
    "joblib.dump(lr_classifier, 'sentiment_lr_model.joblib')\n",
    "joblib.dump(nb_classifier, 'sentiment_nb_model.joblib')"
   ]
  },
  {
   "cell_type": "code",
   "execution_count": 56,
   "id": "13546075-9014-414e-903e-4e57c5582ab8",
   "metadata": {},
   "outputs": [],
   "source": [
    "# Created Custom function to test model by giving input \n",
    "def predict_sentiment(input_text):\n",
    "    processed_text = contr_words(input_text.lower(), contractions)\n",
    "    processed_text = remove_stopwords(processed_text)\n",
    "    processed_text = re.sub(r'http\\S+|www\\.\\S+', ' ', processed_text)\n",
    "    processed_text = re.sub(r'[^a-zA-Z0-9\\s]', ' ', processed_text)\n",
    "    input_vector = text_to_word2vec_vector(processed_text)\n",
    "    \n",
    "    loaded_model = joblib.load('sentiment_svm_model.joblib')\n",
    "\n",
    "    prediction = loaded_model.predict([input_vector])[0]\n",
    "    sentiment_labels = {2: 'Positive', 1: 'Neutral', 0: 'Negative'}\n",
    "    return sentiment_labels[prediction]"
   ]
  },
  {
   "cell_type": "code",
   "execution_count": 57,
   "id": "a6de37f3-d7e3-4267-a0e6-a587237be5bc",
   "metadata": {},
   "outputs": [],
   "source": [
    "result = predict_sentiment(\"I love this product\")\n",
    "print(result)"
   ]
  },
  {
   "cell_type": "code",
   "execution_count": null,
   "id": "74cefdfa-3015-4c01-b2be-2fd967901a91",
   "metadata": {},
   "outputs": [],
   "source": []
  },
  {
   "cell_type": "code",
   "execution_count": null,
   "id": "7ebaec10-2969-4834-884a-26032a888bdc",
   "metadata": {},
   "outputs": [],
   "source": []
  }
 ],
 "metadata": {
  "kernelspec": {
   "display_name": "Python 3 (ipykernel)",
   "language": "python",
   "name": "python3"
  },
  "language_info": {
   "codemirror_mode": {
    "name": "ipython",
    "version": 3
   },
   "file_extension": ".py",
   "mimetype": "text/x-python",
   "name": "python",
   "nbconvert_exporter": "python",
   "pygments_lexer": "ipython3",
   "version": "3.10.12"
  }
 },
 "nbformat": 4,
 "nbformat_minor": 5
}
